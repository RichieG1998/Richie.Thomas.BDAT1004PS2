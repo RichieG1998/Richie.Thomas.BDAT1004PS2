{
 "cells": [
  {
   "cell_type": "code",
   "execution_count": null,
   "id": "86f033d4",
   "metadata": {},
   "outputs": [],
   "source": [
    "#Question1\n",
    "value of a =6\n",
    "Exaplanation\n",
    "here function b i excecuted 3 times\n",
    "for the first b()\n",
    "function c is called which returns a+2 ie 0+2=2\n",
    "for the second b()\n",
    "function c is called which returns a+2 ie 2+2=4\n",
    "for the thirs b()\n",
    "function c is called which returns a+2 ie 4+2=6"
   ]
  },
  {
   "cell_type": "code",
   "execution_count": 87,
   "id": "28b2f391",
   "metadata": {},
   "outputs": [
    {
     "data": {
      "text/plain": [
       "20"
      ]
     },
     "execution_count": 87,
     "metadata": {},
     "output_type": "execute_result"
    }
   ],
   "source": [
    "#Question 2\n",
    "def file_length(filename):\n",
    "    try:\n",
    "        # Try to open the file with the given filename in read mode\n",
    "        with open(filename, 'r') as file:\n",
    "            # Read the content of the file\n",
    "            content = file.read()\n",
    "            # Return the length of the content\n",
    "            return len(content)\n",
    "    except FileNotFoundError:\n",
    "        # If the file is not found, print an error message\n",
    "        print(f\"File '{filename}' not found.\")\n",
    "\n",
    "# Call the function with the filename 'midterm.py'\n",
    "file_length('midterm.py')\n"
   ]
  },
  {
   "cell_type": "code",
   "execution_count": 6,
   "id": "172261f1",
   "metadata": {},
   "outputs": [
    {
     "name": "stdout",
     "output_type": "stream",
     "text": [
      "File 'midter.py' not found.\n"
     ]
    }
   ],
   "source": [
    "file_length('midter.py')"
   ]
  },
  {
   "cell_type": "code",
   "execution_count": 88,
   "id": "088dc4cf",
   "metadata": {},
   "outputs": [
    {
     "name": "stdout",
     "output_type": "stream",
     "text": [
      "['doll', 'firetruck', 'kitten']\n"
     ]
    }
   ],
   "source": [
    "#Question 3\n",
    "class Marsupial:\n",
    "    def __init__(self):\n",
    "        # Initialize an empty list to represent the pouch\n",
    "        self.pouch = []\n",
    "\n",
    "    def put_in_pouch(self, item):\n",
    "        # Method to add an item to the pouch list\n",
    "        self.pouch.append(item)\n",
    "\n",
    "    def pouch_contents(self):\n",
    "        # Method to return the contents of the pouch\n",
    "        return self.pouch\n",
    "    \n",
    "# Create an instance of the Marsupial class\n",
    "m = Marsupial()\n",
    "\n",
    "# Add items to the pouch using the put_in_pouch method\n",
    "m.put_in_pouch('doll')\n",
    "m.put_in_pouch('firetruck')\n",
    "m.put_in_pouch('kitten')\n",
    "\n",
    "# Print the contents of the pouch using the pouch_contents method\n",
    "print(m.pouch_contents())\n",
    "\n"
   ]
  },
  {
   "cell_type": "code",
   "execution_count": 89,
   "id": "9bf6b85d",
   "metadata": {},
   "outputs": [],
   "source": [
    "#Question 3 a,b,c\n",
    "class Kangaroo(Marsupial):\n",
    "    def __init__(self, x=0, y=0):\n",
    "        # Call the constructor of the parent class Marsupial\n",
    "        super().__init__()\n",
    "        # Initialize the Kangaroo's coordinates\n",
    "        self.x = x\n",
    "        self.y = y\n",
    "\n",
    "    def jump(self, dx, dy):\n",
    "        # Update the Kangaroo's coordinates based on the jump\n",
    "        self.x += dx\n",
    "        self.y += dy\n",
    "\n",
    "    def __str__(self):\n",
    "        # Return a string representation of the Kangaroo's location\n",
    "        return f\"I am a Kangaroo located at coordinates ({self.x}, {self.y})\"\n"
   ]
  },
  {
   "cell_type": "code",
   "execution_count": 23,
   "id": "3c682f6d",
   "metadata": {},
   "outputs": [
    {
     "name": "stdout",
     "output_type": "stream",
     "text": [
      "I am a Kangaroo located at coordinates (0, 0)\n"
     ]
    }
   ],
   "source": [
    "k=Kangaroo(0,0)\n",
    "print(k)"
   ]
  },
  {
   "cell_type": "code",
   "execution_count": 24,
   "id": "28668d6c",
   "metadata": {},
   "outputs": [
    {
     "data": {
      "text/plain": [
       "['doll', 'firetruck', 'kitten']"
      ]
     },
     "execution_count": 24,
     "metadata": {},
     "output_type": "execute_result"
    }
   ],
   "source": [
    "k.put_in_pouch('doll')\n",
    "k.put_in_pouch('firetruck')\n",
    "k.put_in_pouch('kitten')\n",
    "k.pouch_contents()"
   ]
  },
  {
   "cell_type": "code",
   "execution_count": 25,
   "id": "19c6e97e",
   "metadata": {},
   "outputs": [
    {
     "name": "stdout",
     "output_type": "stream",
     "text": [
      "I am a Kangaroo located at coordinates (3, 0)\n"
     ]
    }
   ],
   "source": [
    "k.jump(1,0)\n",
    "k.jump(1,0)\n",
    "k.jump(1,0)\n",
    "print(k)"
   ]
  },
  {
   "cell_type": "code",
   "execution_count": 36,
   "id": "2a1f648a",
   "metadata": {},
   "outputs": [],
   "source": [
    "#Question 4\n",
    "def collatz(x):\n",
    "    # Print the current number in the sequence\n",
    "    print(x)\n",
    "    # Base case: If x reaches 1, terminate the sequence\n",
    "    if x == 1:\n",
    "        return \n",
    "    # If x is even, apply the Collatz rule: divide by 2\n",
    "    elif x % 2 == 0:\n",
    "        collatz(x // 2)\n",
    "    # If x is odd, apply the Collatz rule: multiply by 3 and add 1\n",
    "    else:\n",
    "        collatz(3 * x + 1)"
   ]
  },
  {
   "cell_type": "code",
   "execution_count": 37,
   "id": "03243d74",
   "metadata": {},
   "outputs": [
    {
     "name": "stdout",
     "output_type": "stream",
     "text": [
      "1\n"
     ]
    }
   ],
   "source": [
    "collatz(1)"
   ]
  },
  {
   "cell_type": "code",
   "execution_count": 34,
   "id": "c265b0de",
   "metadata": {},
   "outputs": [
    {
     "name": "stdout",
     "output_type": "stream",
     "text": [
      "10  \n",
      "5  \n",
      "16  \n",
      "8  \n",
      "4  \n",
      "2  \n",
      "1  \n"
     ]
    }
   ],
   "source": [
    "collatz(10)"
   ]
  },
  {
   "cell_type": "code",
   "execution_count": 44,
   "id": "eb2749f6",
   "metadata": {},
   "outputs": [],
   "source": [
    "#Question 5\n",
    "def binary(n):\n",
    "    # Base case: if n is 0, return '0'\n",
    "    if n == 0:\n",
    "        return '0'\n",
    "    # Base case: if n is 1, return '1'\n",
    "    elif n == 1:\n",
    "        return '1'\n",
    "    else:\n",
    "        # Recursive case: divide n by 2 and convert the quotient to binary,\n",
    "        # then append the remainder (n % 2) to the binary representation\n",
    "        return binary(n // 2) + str(n % 2)\n"
   ]
  },
  {
   "cell_type": "code",
   "execution_count": null,
   "id": "dde9549f",
   "metadata": {},
   "outputs": [],
   "source": []
  },
  {
   "cell_type": "code",
   "execution_count": 47,
   "id": "27762d5c",
   "metadata": {},
   "outputs": [
    {
     "data": {
      "text/plain": [
       "'0'"
      ]
     },
     "execution_count": 47,
     "metadata": {},
     "output_type": "execute_result"
    }
   ],
   "source": [
    "binary(0)"
   ]
  },
  {
   "cell_type": "code",
   "execution_count": 48,
   "id": "a81b61ed",
   "metadata": {},
   "outputs": [
    {
     "data": {
      "text/plain": [
       "'1'"
      ]
     },
     "execution_count": 48,
     "metadata": {},
     "output_type": "execute_result"
    }
   ],
   "source": [
    "binary(1)"
   ]
  },
  {
   "cell_type": "code",
   "execution_count": 49,
   "id": "e0a42128",
   "metadata": {},
   "outputs": [
    {
     "data": {
      "text/plain": [
       "'11'"
      ]
     },
     "execution_count": 49,
     "metadata": {},
     "output_type": "execute_result"
    }
   ],
   "source": [
    "binary(3)"
   ]
  },
  {
   "cell_type": "code",
   "execution_count": 50,
   "id": "8fd8f6e5",
   "metadata": {},
   "outputs": [
    {
     "data": {
      "text/plain": [
       "'1001'"
      ]
     },
     "execution_count": 50,
     "metadata": {},
     "output_type": "execute_result"
    }
   ],
   "source": [
    "binary(9)"
   ]
  },
  {
   "cell_type": "code",
   "execution_count": 69,
   "id": "00ea9e27",
   "metadata": {},
   "outputs": [],
   "source": [
    "#Question 6 \n",
    "from html.parser import HTMLParser\n",
    "\n",
    "class HeadingParser(HTMLParser):\n",
    "    def __init__(self):\n",
    "        super().__init__()\n",
    "        # Initialize an empty list to store headings and their indentation levels\n",
    "        self.headings = []\n",
    "        # Initialize variables to keep track of the current heading and its indentation\n",
    "        self.current_heading = None\n",
    "        self.indentation = 0\n",
    "\n",
    "    def handle_starttag(self, tag, attrs):\n",
    "        # If the encountered tag is a heading tag (e.g., 'h1', 'h2', etc.)\n",
    "        if tag.startswith('h'):\n",
    "            # Extract the heading level from the tag and assign it to current_heading\n",
    "            self.current_heading = int(tag[1:])\n",
    "\n",
    "    def handle_endtag(self, tag):\n",
    "        # If the encountered tag is the end tag for a heading\n",
    "        if tag.startswith('h'):\n",
    "            # Reset current_heading to None, indicating that no heading is currently being processed\n",
    "            self.current_heading = None\n",
    "\n",
    "    def handle_data(self, data):\n",
    "        # If there is a current_heading (i.e., a heading tag is currently being processed)\n",
    "        if self.current_heading is not None:\n",
    "            # Append a tuple containing the indentation level and the stripped data to the headings list\n",
    "            self.headings.append((self.indentation, data.strip()))\n",
    "\n",
    "    # Override the feed method to call the superclass's feed method\n",
    "    def feed(self, data):\n",
    "        super().feed(data)\n",
    "\n",
    "    # Method to print the extracted headings with appropriate indentation\n",
    "    def print_headings(self):\n",
    "        for indentation, data in self.headings:\n",
    "            print('  ' * indentation + data)\n",
    "\n"
   ]
  },
  {
   "cell_type": "code",
   "execution_count": 70,
   "id": "c10ff8ff",
   "metadata": {},
   "outputs": [
    {
     "name": "stdout",
     "output_type": "stream",
     "text": [
      "\n",
      "\n",
      "\n",
      "\n",
      "\n",
      "\n",
      "\n",
      "W3C Mission\n",
      "Principles\n"
     ]
    }
   ],
   "source": [
    "infile = open('w3c.txt')\n",
    "content = infile.read()\n",
    "infile.close()\n",
    "hp = HeadingParser()\n",
    "hp.feed(content)\n",
    "hp.print_headings()\n"
   ]
  },
  {
   "cell_type": "code",
   "execution_count": 86,
   "id": "eb70a76b",
   "metadata": {},
   "outputs": [
    {
     "ename": "ModuleNotFoundError",
     "evalue": "No module named 'requests'",
     "output_type": "error",
     "traceback": [
      "\u001b[1;31m---------------------------------------------------------------------------\u001b[0m",
      "\u001b[1;31mModuleNotFoundError\u001b[0m                       Traceback (most recent call last)",
      "Cell \u001b[1;32mIn[86], line 2\u001b[0m\n\u001b[0;32m      1\u001b[0m \u001b[38;5;66;03m#Question 7\u001b[39;00m\n\u001b[1;32m----> 2\u001b[0m \u001b[38;5;28;01mimport\u001b[39;00m \u001b[38;5;21;01mrequests\u001b[39;00m\n\u001b[0;32m      3\u001b[0m \u001b[38;5;28;01mfrom\u001b[39;00m \u001b[38;5;21;01mbs4\u001b[39;00m \u001b[38;5;28;01mimport\u001b[39;00m BeautifulSoup\n\u001b[0;32m      4\u001b[0m \u001b[38;5;28;01mfrom\u001b[39;00m \u001b[38;5;21;01murllib\u001b[39;00m\u001b[38;5;21;01m.\u001b[39;00m\u001b[38;5;21;01mparse\u001b[39;00m \u001b[38;5;28;01mimport\u001b[39;00m urljoin\n",
      "\u001b[1;31mModuleNotFoundError\u001b[0m: No module named 'requests'"
     ]
    }
   ],
   "source": [
    "#Question 7\n",
    "import os\n",
    "# Install BeautifulSoup if not already installed\n",
    "os.system(\"pip install beautifulsoup4\")\n",
    "from urllib.request import urlopen\n",
    "from urllib.parse import urljoin\n",
    "from bs4 import BeautifulSoup\n",
    "\n",
    "def webdir(url, depth, indent):\n",
    "    # Base case: if depth is less than 0, return without further crawling\n",
    "    if depth < 0:\n",
    "        return\n",
    "\n",
    "    try:\n",
    "        # Open the URL and parse its content\n",
    "        response = urlopen(url)\n",
    "        soup = BeautifulSoup(response.read(), 'html.parser')\n",
    "        # Print the URL with appropriate indentation\n",
    "        print(' ' * indent + url)\n",
    "\n",
    "        if depth > 0:\n",
    "            # Find all anchor tags (links) in the page\n",
    "            links = soup.find_all('a')\n",
    "            for link in links:\n",
    "                # Construct the absolute URL for the next page to crawl\n",
    "                next_url = urljoin(url, link.get('href'))\n",
    "                # Recursively call webdir with the next URL, decreased depth, and increased indentation\n",
    "                webdir(next_url, depth - 1, indent + 1)\n",
    "\n",
    "    except Exception as e:\n",
    "        # If there's an error accessing the URL, print an error message\n",
    "        print(' ' * indent + f\"Error accessing {url}: {e}\")\n",
    "\n",
    "    \n",
    "\n"
   ]
  },
  {
   "cell_type": "code",
   "execution_count": null,
   "id": "c404dba0",
   "metadata": {},
   "outputs": [],
   "source": [
    "webdir('https://www.w3schools.com/html/', 2, 0)\n"
   ]
  },
  {
   "cell_type": "code",
   "execution_count": null,
   "id": "a7f9b568",
   "metadata": {},
   "outputs": [],
   "source": [
    "#Question 8\n",
    "Write SQL queries on the below database table that return: \n",
    "\n",
    "a) All the temperature data\n",
    "\n",
    "Select temperature from Table;\n",
    "\n",
    "b)All the cities, but without repetition.\n",
    "\n",
    "SELECT DISTINCT city FROM your_table_name;\n",
    "\n",
    "c) All the records for India.\n",
    "\n",
    "Select * from table where country='India';\n",
    "\n",
    "d) All the Fall records\n",
    "\n",
    "Select * from table where season='Fall';\n",
    "\n",
    "e)The city, country, and season for which the average rainfall is between 200 \n",
    "and 400 millimeters\n",
    "\n",
    "Select city,country,season from tabble where avg(rainfall) between 200 and 400\n",
    "\n",
    "f)The city and country for which the average Fall temperature is above 20 \n",
    "degrees, in increasing temperature order\n",
    "\n",
    "SELECT city, country FROM table WHERE season = 'Fall'\n",
    "HAVING AVG(temperature) > 20\n",
    "ORDER BY AVG(temperature) ;\n",
    "\n",
    "\n",
    "g)The total annual rainfall for Cairo.\n",
    "\n",
    "SELECT SUM(rainfall) AS total_annual_rainfall\n",
    "FROM table\n",
    "WHERE city = 'Cairo';\n",
    "\n",
    "h)The total rainfall for each season.\n",
    "\n",
    "SELECT season, SUM(rainfall) AS total_rainfall\n",
    "FROM table\n",
    "GROUP BY season;"
   ]
  },
  {
   "cell_type": "code",
   "execution_count": 85,
   "id": "a99e0f59",
   "metadata": {},
   "outputs": [
    {
     "name": "stdout",
     "output_type": "stream",
     "text": [
      "['THE', 'QUICK', 'BROWN', 'FOX', 'JUMPS', 'OVER', 'THE', 'LAZY', 'DOG']\n",
      "['the', 'quick', 'brown', 'fox', 'jumps', 'over', 'the', 'lazy', 'dog']\n",
      "[3, 5, 5, 3, 5, 4, 3, 4, 3]\n",
      "[['THE', 'the', 3], ['QUICK', 'quick', 5], ['BROWN', 'brown', 5], ['FOX', 'fox', 3], ['JUMPS', 'jumps', 5], ['OVER', 'over', 4], ['THE', 'the', 3], ['LAZY', 'lazy', 4], ['DOG', 'dog', 3]]\n",
      "['quick', 'brown', 'jumps', 'over', 'lazy']\n"
     ]
    }
   ],
   "source": [
    "#Question 9\n",
    "words = ['The', 'quick', 'brown', 'fox', 'jumps', 'over', \n",
    "'the', 'lazy', 'dog']\n",
    "\n",
    "\n",
    "uppercase_words = [word.upper() for word in words]\n",
    "print(uppercase_words)\n",
    "lowercase_words = [word.lower() for word in words]\n",
    "print(lowercase_words)\n",
    "word_lengths = [len(word) for word in words]\n",
    "print(word_lengths)\n",
    "word_info = [[word.upper(), word.lower(), len(word)] for word in words]\n",
    "print(word_info)\n",
    "long_words = [word for word in words if len(word) >= 4]\n",
    "print(long_words)\n",
    "\n"
   ]
  },
  {
   "cell_type": "code",
   "execution_count": null,
   "id": "aa777c87",
   "metadata": {},
   "outputs": [],
   "source": []
  }
 ],
 "metadata": {
  "kernelspec": {
   "display_name": "Python 3 (ipykernel)",
   "language": "python",
   "name": "python3"
  },
  "language_info": {
   "codemirror_mode": {
    "name": "ipython",
    "version": 3
   },
   "file_extension": ".py",
   "mimetype": "text/x-python",
   "name": "python",
   "nbconvert_exporter": "python",
   "pygments_lexer": "ipython3",
   "version": "3.11.7"
  }
 },
 "nbformat": 4,
 "nbformat_minor": 5
}
