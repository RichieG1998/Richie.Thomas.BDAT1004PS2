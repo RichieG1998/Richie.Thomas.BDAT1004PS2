{
 "cells": [
  {
   "cell_type": "code",
   "execution_count": null,
   "id": "2d2ee1af",
   "metadata": {},
   "outputs": [],
   "source": [
    "#Question1\n",
    "value of a =6\n",
    "Exaplanation\n",
    "here function b i excecuted 3 times\n",
    "for the first b()\n",
    "function c is called which returns a+2 ie 0+2=2\n",
    "for the second b()\n",
    "function c is called which returns a+2 ie 2+2=4\n",
    "for the thirs b()\n",
    "function c is called which returns a+2 ie 4+2=6"
   ]
  },
  {
   "cell_type": "code",
   "execution_count": 5,
   "id": "6c299e14",
   "metadata": {},
   "outputs": [
    {
     "data": {
      "text/plain": [
       "20"
      ]
     },
     "execution_count": 5,
     "metadata": {},
     "output_type": "execute_result"
    }
   ],
   "source": [
    "#Question 2\n",
    "def file_length(filename):\n",
    "    try:\n",
    "        with open(filename, 'r') as file:\n",
    "            content = file.read()\n",
    "            return len(content)\n",
    "    except FileNotFoundError:\n",
    "        print(f\"File '{filename}' not found.\")\n",
    "        \n",
    "file_length('midterm.py')\n"
   ]
  },
  {
   "cell_type": "code",
   "execution_count": 6,
   "id": "3edb2333",
   "metadata": {},
   "outputs": [
    {
     "name": "stdout",
     "output_type": "stream",
     "text": [
      "File 'midter.py' not found.\n"
     ]
    }
   ],
   "source": [
    "file_length('midter.py')"
   ]
  },
  {
   "cell_type": "code",
   "execution_count": null,
   "id": "114974ec",
   "metadata": {},
   "outputs": [],
   "source": []
  }
 ],
 "metadata": {
  "kernelspec": {
   "display_name": "Python 3 (ipykernel)",
   "language": "python",
   "name": "python3"
  },
  "language_info": {
   "codemirror_mode": {
    "name": "ipython",
    "version": 3
   },
   "file_extension": ".py",
   "mimetype": "text/x-python",
   "name": "python",
   "nbconvert_exporter": "python",
   "pygments_lexer": "ipython3",
   "version": "3.11.7"
  }
 },
 "nbformat": 4,
 "nbformat_minor": 5
}
