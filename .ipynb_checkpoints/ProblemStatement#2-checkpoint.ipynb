{
 "cells": [
  {
   "cell_type": "code",
   "execution_count": null,
   "id": "9bc7c580",
   "metadata": {},
   "outputs": [],
   "source": [
    "#Question1\n",
    "value of a =6\n",
    "Exaplanation\n",
    "here function b i excecuted 3 times\n",
    "for the first b()\n",
    "function c is called which returns a+2 ie 0+2=2\n",
    "for the second b()\n",
    "function c is called which returns a+2 ie 2+2=4\n",
    "for the thirs b()\n",
    "function c is called which returns a+2 ie 4+2=6"
   ]
  },
  {
   "cell_type": "code",
   "execution_count": 5,
   "id": "197edb0c",
   "metadata": {},
   "outputs": [
    {
     "data": {
      "text/plain": [
       "20"
      ]
     },
     "execution_count": 5,
     "metadata": {},
     "output_type": "execute_result"
    }
   ],
   "source": [
    "#Question 2\n",
    "def file_length(filename):\n",
    "    try:\n",
    "        with open(filename, 'r') as file:\n",
    "            content = file.read()\n",
    "            return len(content)\n",
    "    except FileNotFoundError:\n",
    "        print(f\"File '{filename}' not found.\")\n",
    "        \n",
    "file_length('midterm.py')\n"
   ]
  },
  {
   "cell_type": "code",
   "execution_count": 6,
   "id": "648443e7",
   "metadata": {},
   "outputs": [
    {
     "name": "stdout",
     "output_type": "stream",
     "text": [
      "File 'midter.py' not found.\n"
     ]
    }
   ],
   "source": [
    "file_length('midter.py')"
   ]
  },
  {
   "cell_type": "code",
   "execution_count": 22,
   "id": "2af3d908",
   "metadata": {},
   "outputs": [
    {
     "name": "stdout",
     "output_type": "stream",
     "text": [
      "['doll', 'firetruck', 'kitten']\n"
     ]
    }
   ],
   "source": [
    "#Question 3\n",
    "class Marsupial:\n",
    "    def __init__(self):\n",
    "        self.pouch = []\n",
    "\n",
    "    def put_in_pouch(self, item):\n",
    "        self.pouch.append(item)\n",
    "\n",
    "    def pouch_contents(self):\n",
    "        return self.pouch\n",
    "    \n",
    "m = Marsupial()\n",
    "m.put_in_pouch('doll')\n",
    "m.put_in_pouch('firetruck')\n",
    "m.put_in_pouch('kitten')\n",
    "print(m.pouch_contents())\n"
   ]
  },
  {
   "cell_type": "code",
   "execution_count": 17,
   "id": "11281926",
   "metadata": {},
   "outputs": [],
   "source": [
    "#Question 3 a,b,c\n",
    "class Kangaroo(Marsupial):\n",
    "    def __init__(self, x=0, y=0):\n",
    "        super().__init__()\n",
    "        self.x = x\n",
    "        self.y = y\n",
    "\n",
    "    def jump(self, dx, dy):\n",
    "        self.x += dx\n",
    "        self.y += dy\n",
    "\n",
    "    def __str__(self):\n",
    "        return f\"I am a Kangaroo located at coordinates ({self.x}, {self.y})\"\n",
    "\n"
   ]
  },
  {
   "cell_type": "code",
   "execution_count": 23,
   "id": "7e18e2e7",
   "metadata": {},
   "outputs": [
    {
     "name": "stdout",
     "output_type": "stream",
     "text": [
      "I am a Kangaroo located at coordinates (0, 0)\n"
     ]
    }
   ],
   "source": [
    "k=Kangaroo(0,0)\n",
    "print(k)"
   ]
  },
  {
   "cell_type": "code",
   "execution_count": 24,
   "id": "6eacc0a7",
   "metadata": {},
   "outputs": [
    {
     "data": {
      "text/plain": [
       "['doll', 'firetruck', 'kitten']"
      ]
     },
     "execution_count": 24,
     "metadata": {},
     "output_type": "execute_result"
    }
   ],
   "source": [
    "k.put_in_pouch('doll')\n",
    "k.put_in_pouch('firetruck')\n",
    "k.put_in_pouch('kitten')\n",
    "k.pouch_contents()"
   ]
  },
  {
   "cell_type": "code",
   "execution_count": 25,
   "id": "7c68a479",
   "metadata": {},
   "outputs": [
    {
     "name": "stdout",
     "output_type": "stream",
     "text": [
      "I am a Kangaroo located at coordinates (3, 0)\n"
     ]
    }
   ],
   "source": [
    "k.jump(1,0)\n",
    "k.jump(1,0)\n",
    "k.jump(1,0)\n",
    "print(k)"
   ]
  },
  {
   "cell_type": "code",
   "execution_count": 36,
   "id": "a2aca3e3",
   "metadata": {},
   "outputs": [],
   "source": [
    "#Question 4\n",
    "def collatz(x):\n",
    "    print(x)\n",
    "    if x == 1:\n",
    "        return \n",
    "    elif x % 2 == 0:\n",
    "        collatz(x // 2)\n",
    "    else:\n",
    "        collatz(3 * x + 1)\n"
   ]
  },
  {
   "cell_type": "code",
   "execution_count": 37,
   "id": "1ef09ffd",
   "metadata": {},
   "outputs": [
    {
     "name": "stdout",
     "output_type": "stream",
     "text": [
      "1\n"
     ]
    }
   ],
   "source": [
    "collatz(1)"
   ]
  },
  {
   "cell_type": "code",
   "execution_count": 34,
   "id": "6563c4d8",
   "metadata": {},
   "outputs": [
    {
     "name": "stdout",
     "output_type": "stream",
     "text": [
      "10  \n",
      "5  \n",
      "16  \n",
      "8  \n",
      "4  \n",
      "2  \n",
      "1  \n"
     ]
    }
   ],
   "source": [
    "collatz(10)"
   ]
  },
  {
   "cell_type": "code",
   "execution_count": 44,
   "id": "9654bd9e",
   "metadata": {},
   "outputs": [],
   "source": [
    "#Question 5\n",
    "def binary(n):\n",
    "    if n == 0:\n",
    "        return '0'\n",
    "    elif n == 1:\n",
    "        return '1'\n",
    "    else:\n",
    "        return binary(n // 2) + str(n % 2) #str() is a Python built-in function that converts its argument into a string.\n"
   ]
  },
  {
   "cell_type": "code",
   "execution_count": null,
   "id": "68d776e4",
   "metadata": {},
   "outputs": [],
   "source": []
  },
  {
   "cell_type": "code",
   "execution_count": 47,
   "id": "6b476ca2",
   "metadata": {},
   "outputs": [
    {
     "data": {
      "text/plain": [
       "'0'"
      ]
     },
     "execution_count": 47,
     "metadata": {},
     "output_type": "execute_result"
    }
   ],
   "source": [
    "binary(0)"
   ]
  },
  {
   "cell_type": "code",
   "execution_count": 48,
   "id": "b88e268b",
   "metadata": {},
   "outputs": [
    {
     "data": {
      "text/plain": [
       "'1'"
      ]
     },
     "execution_count": 48,
     "metadata": {},
     "output_type": "execute_result"
    }
   ],
   "source": [
    "binary(1)"
   ]
  },
  {
   "cell_type": "code",
   "execution_count": 49,
   "id": "cb5596c2",
   "metadata": {},
   "outputs": [
    {
     "data": {
      "text/plain": [
       "'11'"
      ]
     },
     "execution_count": 49,
     "metadata": {},
     "output_type": "execute_result"
    }
   ],
   "source": [
    "binary(3)"
   ]
  },
  {
   "cell_type": "code",
   "execution_count": 50,
   "id": "60e22503",
   "metadata": {},
   "outputs": [
    {
     "data": {
      "text/plain": [
       "'1001'"
      ]
     },
     "execution_count": 50,
     "metadata": {},
     "output_type": "execute_result"
    }
   ],
   "source": [
    "binary(9)"
   ]
  },
  {
   "cell_type": "code",
   "execution_count": 69,
   "id": "b945f0dc",
   "metadata": {},
   "outputs": [],
   "source": [
    "#Question 6 \n",
    "from html.parser import HTMLParser\n",
    "\n",
    "class HeadingParser(HTMLParser):\n",
    "    def __init__(self):\n",
    "        super().__init__()\n",
    "        self.headings = []\n",
    "        self.current_heading = None\n",
    "        self.indentation = 0\n",
    "\n",
    "    def handle_starttag(self, tag, attrs):\n",
    "        if tag.startswith('h'):\n",
    "            self.current_heading = tag[1:]\n",
    "\n",
    "    def handle_endtag(self, tag):\n",
    "        if tag.startswith('h'):\n",
    "            self.current_heading = None\n",
    "\n",
    "    def handle_data(self, data):\n",
    "        if self.current_heading is not None:\n",
    "            self.headings.append((self.indentation, data.strip()))\n",
    "            \n",
    "    def feed(self, data):\n",
    "        super().feed(data)\n",
    "\n",
    "    def print_headings(self):\n",
    "        for indentation, data in self.headings:\n",
    "            print('  ' * indentation + data)\n",
    "\n"
   ]
  },
  {
   "cell_type": "code",
   "execution_count": 70,
   "id": "cf41b2e0",
   "metadata": {},
   "outputs": [
    {
     "name": "stdout",
     "output_type": "stream",
     "text": [
      "\n",
      "\n",
      "\n",
      "\n",
      "\n",
      "\n",
      "\n",
      "W3C Mission\n",
      "Principles\n"
     ]
    }
   ],
   "source": [
    "infile = open('w3c.txt')\n",
    "content = infile.read()\n",
    "infile.close()\n",
    "hp = HeadingParser()\n",
    "hp.feed(content)\n",
    "hp.print_headings()\n"
   ]
  },
  {
   "cell_type": "code",
   "execution_count": null,
   "id": "4ab13fb4",
   "metadata": {},
   "outputs": [],
   "source": [
    "#Question 8\n",
    "Write SQL queries on the below database table that return: \n",
    "\n",
    "a) All the temperature data\n",
    "\n",
    "Select temperature from Table;\n",
    "\n",
    "b)All the cities, but without repetition.\n",
    "\n",
    "SELECT DISTINCT city FROM your_table_name;\n",
    "\n",
    "c) All the records for India.\n",
    "\n",
    "Select * from table where country='India';\n",
    "\n",
    "d) All the Fall records\n",
    "\n",
    "Select * from table where season='Fall';\n",
    "\n",
    "e)The city, country, and season for which the average rainfall is between 200 \n",
    "and 400 millimeters\n",
    "\n",
    "Select city,country,season from tabble where avg(rainfall) between 200 and 400\n",
    "\n",
    "f)The city and country for which the average Fall temperature is above 20 \n",
    "degrees, in increasing temperature order\n",
    "\n",
    "SELECT city, country FROM table WHERE season = 'Fall'\n",
    "HAVING AVG(temperature) > 20\n",
    "ORDER BY AVG(temperature) ;\n",
    "\n",
    "\n",
    "g)The total annual rainfall for Cairo.\n",
    "\n",
    "SELECT SUM(rainfall) AS total_annual_rainfall\n",
    "FROM table\n",
    "WHERE city = 'Cairo';\n",
    "\n",
    "h)The total rainfall for each season.\n",
    "\n",
    "SELECT season, SUM(rainfall) AS total_rainfall\n",
    "FROM table\n",
    "GROUP BY season;"
   ]
  }
 ],
 "metadata": {
  "kernelspec": {
   "display_name": "Python 3 (ipykernel)",
   "language": "python",
   "name": "python3"
  },
  "language_info": {
   "codemirror_mode": {
    "name": "ipython",
    "version": 3
   },
   "file_extension": ".py",
   "mimetype": "text/x-python",
   "name": "python",
   "nbconvert_exporter": "python",
   "pygments_lexer": "ipython3",
   "version": "3.11.7"
  }
 },
 "nbformat": 4,
 "nbformat_minor": 5
}
